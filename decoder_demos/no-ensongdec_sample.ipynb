{
 "cells": [
  {
   "cell_type": "code",
   "execution_count": 1,
   "id": "019f9eb7-c2f7-4951-ad89-63511eed2124",
   "metadata": {},
   "outputs": [],
   "source": [
    "r\"\"\"\n",
    "    Sample NDT2 decoder for the Falcon Challenge.\n",
    "    \n",
    "    Oracle commands:\n",
    "    python decoder_demos/ndt2_sample.py --evaluation local --model-path '' --config-stem falcon/m1/m1_oracle_chop --zscore-path ./local_data/ndt2_zscore_m1.pt --split m1 --phase test --batch-size 1 --model-paths local_data/m1_single_oracle_ndt2_2mz1bysq.ckpt  local_data/m1_single_oracle_ndt2_awe4ln1c.ckpt  local_data/m1_single_oracle_ndt2_e980ervy.ckpt local_data/m1_single_oracle_ndt2_976acfc7.ckpt  local_data/m1_single_oracle_ndt2_dh2xwzi0.ckpt  local_data/m1_single_oracle_ndt2_hpuopdhc.ckpt  local_data/m1_single_oracle_ndt2_u8rt3ciq.ckpt\n",
    "\"\"\"\n",
    "\n",
    "import argparse\n",
    "\n",
    "\n",
    "from falcon_challenge.config import FalconConfig, FalconTask\n",
    "from falcon_challenge.evaluator import FalconEvaluator\n",
    "\n",
    "import falcon_challenge.config as fc\n",
    "from importlib import reload\n",
    "\n",
    "\n",
    "# from context_general_bci.falcon_decoder import NDT2Decoder"
   ]
  },
  {
   "cell_type": "code",
   "execution_count": 23,
   "id": "8ce250c9-67eb-49ee-9188-54d029efe6fb",
   "metadata": {},
   "outputs": [
    {
     "name": "stdout",
     "output_type": "stream",
     "text": [
      "local b1\n"
     ]
    }
   ],
   "source": [
    "def main(evaluation, model_path='./default_path.pth', batch_size=1, split='b1', phase='minival', model_paths='/models'):\n",
    "    print(evaluation, split)\n",
    "\n",
    "split = 'b1'\n",
    "evaluation = 'local'\n",
    "model_path='./local_data/model.pth'\n",
    "main(evaluation=evaluation, model_path=model_path, batch_size=10, split=split, phase='minival', model_paths='/models')"
   ]
  },
  {
   "cell_type": "code",
   "execution_count": 29,
   "id": "efb56fcd-76c7-4181-a2e0-88a648c038d0",
   "metadata": {},
   "outputs": [
    {
     "data": {
      "text/plain": [
       "str"
      ]
     },
     "execution_count": 29,
     "metadata": {},
     "output_type": "execute_result"
    }
   ],
   "source": [
    "import os\n",
    "a = os.path.join('/', 'test')\n",
    "type(a)"
   ]
  },
  {
   "cell_type": "code",
   "execution_count": 16,
   "id": "6a93682d-59fd-4e67-808f-d1f2370ec95b",
   "metadata": {},
   "outputs": [
    {
     "data": {
      "text/plain": [
       "False"
      ]
     },
     "metadata": {},
     "output_type": "display_data"
    },
    {
     "data": {
      "text/plain": [
       "False"
      ]
     },
     "metadata": {},
     "output_type": "display_data"
    },
    {
     "data": {
      "text/plain": [
       "<FalconTask.b1: 'falcon_b1_vocal'>"
      ]
     },
     "metadata": {},
     "output_type": "display_data"
    },
    {
     "data": {
      "text/plain": [
       "FalconConfig(task=<FalconTask.b1: 'falcon_b1_vocal'>, bin_size_ms=20)"
      ]
     },
     "metadata": {},
     "output_type": "display_data"
    }
   ],
   "source": [
    "evaluator = FalconEvaluator(\n",
    "    eval_remote=evaluation,\n",
    "    split=split,\n",
    "    # verbose=True\n",
    "    # continual=args.continual\n",
    ")\n",
    "\n",
    "\n",
    "display(evaluator.continual,\n",
    "evaluator.verbose,\n",
    "evaluator.dataset,\n",
    "evaluator.cfg)"
   ]
  },
  {
   "cell_type": "code",
   "execution_count": 26,
   "id": "7cb7f931-a500-4e1a-8e74-f96baedcd7e6",
   "metadata": {},
   "outputs": [
    {
     "name": "stdout",
     "output_type": "stream",
     "text": [
      "./local_data/model.pth\n",
      "FalconTask.b1 FalconConfig(task=<FalconTask.b1: 'falcon_b1_vocal'>, bin_size_ms=20) 200\n"
     ]
    }
   ],
   "source": [
    "task = getattr(FalconTask, split)\n",
    "config = FalconConfig(task=task)\n",
    "max_bins = 50 if task in [FalconTask.m1, FalconTask.m2] else 200 # These are recommended defaults\n",
    "model_paths = model_path\n",
    "\n",
    "print(model_paths)\n",
    "print(task, config, max_bins)"
   ]
  },
  {
   "cell_type": "code",
   "execution_count": null,
   "id": "80e27d07-5257-416a-bd70-5df4c1b0648f",
   "metadata": {},
   "outputs": [],
   "source": [
    "if args.model_paths:\n",
    "    model_paths = args.model_paths\n",
    "    print(model_paths)\n",
    "else:\n",
    "    model_paths = args.model_path\n",
    "decoder = NDT2Decoder(\n",
    "    task_config=config,\n",
    "    model_ckpt_path=model_paths,\n",
    "    model_cfg_stem=args.config_stem,\n",
    "    zscore_path=args.zscore_path,\n",
    "    max_bins=max_bins,\n",
    "    dataset_handles=[x.stem for x in evaluator.get_eval_files(phase=args.phase)],\n",
    "    batch_size=args.batch_size,\n",
    "    force_static_key=args.force_static_key\n",
    ")\n",
    "\n",
    "\n",
    "evaluator.evaluate(decoder, phase=args.phase)\n"
   ]
  }
 ],
 "metadata": {
  "kernelspec": {
   "display_name": "Python 3 (ipykernel)",
   "language": "python",
   "name": "python3"
  },
  "language_info": {
   "codemirror_mode": {
    "name": "ipython",
    "version": 3
   },
   "file_extension": ".py",
   "mimetype": "text/x-python",
   "name": "python",
   "nbconvert_exporter": "python",
   "pygments_lexer": "ipython3",
   "version": "3.11.7"
  }
 },
 "nbformat": 4,
 "nbformat_minor": 5
}
